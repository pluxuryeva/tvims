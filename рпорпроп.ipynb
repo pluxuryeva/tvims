{
 "cells": [
  {
   "cell_type": "markdown",
   "metadata": {},
   "source": [
    "<big>ПМ23-3 Рудых Максим</big>"
   ]
  },
  {
   "cell_type": "code",
   "execution_count": 13,
   "metadata": {},
   "outputs": [],
   "source": [
    "import numpy as np\n",
    "def rrstr(x,n): # округление до n знаков после запятой\n",
    "    fmt = '{:.'+str(n)+'f}'\n",
    "    return fmt.format(x).replace('.',',')\n"
   ]
  },
  {
   "cell_type": "code",
   "execution_count": 47,
   "metadata": {},
   "outputs": [],
   "source": [
    "import sympy as sp\n",
    "from scipy.integrate import quad\n",
    "import scipy.optimize as opt"
   ]
  },
  {
   "cell_type": "markdown",
   "metadata": {},
   "source": [
    "1. Абсолютно непрерывная случайная величина $X$ может принимать значения только в отрезке $[3,6]$.\n",
    "На этом отрезке плотность распределения случайной величины $X$ имеет вид: \n",
    "$f(x)=C(1+2x^{0,5}+5x^{0,7}+6x^{0,9})^{1,3}$, где $C$  – положительная константа.\n",
    "Найдите:\n",
    "1) константу $C$;\n",
    "2) математическое ожидание $\\text{E}(X)$;\n",
    "3) стандартное отклонение $\\sigma_X$;\n",
    "4) квантиль уровня $0,8$ распределения $X$.<br/>"
   ]
  },
  {
   "cell_type": "code",
   "execution_count": 21,
   "metadata": {},
   "outputs": [],
   "source": [
    "a = 3\n",
    "b = 6"
   ]
  },
  {
   "cell_type": "code",
   "execution_count": 22,
   "metadata": {},
   "outputs": [],
   "source": [
    "def f(x, C):\n",
    "    return C * ((1 + 2*(x**0.5) + 5*(x**0.7) + 6*(x**0.9))**1.3)"
   ]
  },
  {
   "cell_type": "code",
   "execution_count": 23,
   "metadata": {},
   "outputs": [],
   "source": [
    "def integral_C(C):\n",
    "    result, _ = quad(f, a, b, args=(C))\n",
    "    return result - 1"
   ]
  },
  {
   "cell_type": "code",
   "execution_count": 24,
   "metadata": {},
   "outputs": [],
   "source": [
    "C_opt = opt.fsolve(integral_C, 0.1)\n",
    "c = C_opt[0]"
   ]
  },
  {
   "cell_type": "code",
   "execution_count": 25,
   "metadata": {},
   "outputs": [
    {
     "data": {
      "text/plain": [
       "0.0025212573836309567"
      ]
     },
     "execution_count": 25,
     "metadata": {},
     "output_type": "execute_result"
    }
   ],
   "source": [
    "c"
   ]
  },
  {
   "cell_type": "code",
   "execution_count": 26,
   "metadata": {},
   "outputs": [],
   "source": [
    "class rv_continuous_f(sts.rv_continuous):\n",
    "    def _pdf(self, x):\n",
    "        pdf_values = np.zeros_like(x)\n",
    "        pdf_values = np.where((a <= x) & (x <= b), f(x, c), pdf_values)\n",
    "        return pdf_values"
   ]
  },
  {
   "cell_type": "code",
   "execution_count": 27,
   "metadata": {},
   "outputs": [],
   "source": [
    "X = rv_continuous_f(a=3, b=6)"
   ]
  },
  {
   "cell_type": "code",
   "execution_count": 30,
   "metadata": {},
   "outputs": [
    {
     "data": {
      "text/plain": [
       "4.667170386307458"
      ]
     },
     "execution_count": 30,
     "metadata": {},
     "output_type": "execute_result"
    }
   ],
   "source": [
    "X.mean()"
   ]
  },
  {
   "cell_type": "code",
   "execution_count": 31,
   "metadata": {},
   "outputs": [
    {
     "data": {
      "text/plain": [
       "0.8500355102548051"
      ]
     },
     "execution_count": 31,
     "metadata": {},
     "output_type": "execute_result"
    }
   ],
   "source": [
    "X.std()"
   ]
  },
  {
   "cell_type": "code",
   "execution_count": 32,
   "metadata": {},
   "outputs": [
    {
     "data": {
      "text/plain": [
       "5.5324180508861085"
      ]
     },
     "execution_count": 32,
     "metadata": {},
     "output_type": "execute_result"
    }
   ],
   "source": [
    "X.ppf(0.8)"
   ]
  },
  {
   "cell_type": "markdown",
   "metadata": {},
   "source": [
    "2. Случайная величина $X$ равномерно распределена на отрезке $[5,7]$.\n",
    "Случайная величина $Y$ выражается через $X$ следующим образом:\n",
    "$Y=(1+4X^{0,5}+8X^{0,7}+9X^{0,9})^{1,1}$.\n",
    "Найдите:\n",
    "1) математическое ожидание $\\text{E}(Y)$;\n",
    "2) стандартное отклонение $\\sigma_Y$;\n",
    "3) асимметрию $\\As(Y)$;\n",
    "4) квантиль уровня $0,8$ распределения $Y$.<br/>"
   ]
  },
  {
   "cell_type": "code",
   "execution_count": 33,
   "metadata": {},
   "outputs": [],
   "source": [
    "a = 5\n",
    "b = 7\n",
    "quantil = 0.8"
   ]
  },
  {
   "cell_type": "code",
   "execution_count": 34,
   "metadata": {},
   "outputs": [],
   "source": [
    "def Y(x):\n",
    "    return (1 + 4*(x**0.5) + 8*(x**0.7) + 9*(x**0.9))**1.1"
   ]
  },
  {
   "cell_type": "code",
   "execution_count": 35,
   "metadata": {},
   "outputs": [],
   "source": [
    "X = sts.uniform(a, b - a)"
   ]
  },
  {
   "cell_type": "code",
   "execution_count": 36,
   "metadata": {},
   "outputs": [],
   "source": [
    "def E_Y():\n",
    "    integrand = lambda x: Y(x) * X.pdf(x)\n",
    "    EY_value, _ = quad(integrand, a, b)\n",
    "    return EY_value"
   ]
  },
  {
   "cell_type": "code",
   "execution_count": 37,
   "metadata": {},
   "outputs": [
    {
     "data": {
      "text/plain": [
       "130.7387135581118"
      ]
     },
     "execution_count": 37,
     "metadata": {},
     "output_type": "execute_result"
    }
   ],
   "source": [
    "E_Y()"
   ]
  },
  {
   "cell_type": "code",
   "execution_count": 38,
   "metadata": {},
   "outputs": [],
   "source": [
    "def std_Y():\n",
    "    integrand = lambda x: ((Y(x) - E_Y())**2)*X.pdf(x)\n",
    "    Var_Y, _ = quad(integrand, a, b)\n",
    "    return math.sqrt(Var_Y)"
   ]
  },
  {
   "cell_type": "code",
   "execution_count": 39,
   "metadata": {},
   "outputs": [
    {
     "data": {
      "text/plain": [
       "10.745567095101208"
      ]
     },
     "execution_count": 39,
     "metadata": {},
     "output_type": "execute_result"
    }
   ],
   "source": [
    "std_Y()"
   ]
  },
  {
   "cell_type": "code",
   "execution_count": 40,
   "metadata": {},
   "outputs": [],
   "source": [
    "def skew_Y():\n",
    "    integrand = lambda x: (((Y(x) - E_Y()) / std_Y())**3) * X.pdf(x)\n",
    "    skew, _ = quad(integrand, a, b)\n",
    "    return skew"
   ]
  },
  {
   "cell_type": "code",
   "execution_count": 41,
   "metadata": {},
   "outputs": [
    {
     "data": {
      "text/plain": [
       "-0.013093889137117818"
      ]
     },
     "execution_count": 41,
     "metadata": {},
     "output_type": "execute_result"
    }
   ],
   "source": [
    "skew_Y()"
   ]
  },
  {
   "cell_type": "code",
   "execution_count": 42,
   "metadata": {},
   "outputs": [],
   "source": [
    "quantile_Y = Y(X.ppf(quantil))"
   ]
  },
  {
   "cell_type": "code",
   "execution_count": 43,
   "metadata": {},
   "outputs": [
    {
     "data": {
      "text/plain": [
       "141.89931540904715"
      ]
     },
     "execution_count": 43,
     "metadata": {},
     "output_type": "execute_result"
    }
   ],
   "source": [
    "quantile_Y"
   ]
  },
  {
   "cell_type": "markdown",
   "metadata": {},
   "source": [
    "3.  Для нормального случайного вектора $(X,Y)\\sim N(-8;18;9;64;0,3)$ \n",
    "найдите вероятность $\\text{P}((X-1)(Y-10)<0)$.<br/>"
   ]
  },
  {
   "cell_type": "code",
   "execution_count": 44,
   "metadata": {},
   "outputs": [],
   "source": [
    "mu_X = -8\n",
    "mu_Y = 18\n",
    "sigma_X = math.sqrt(9)\n",
    "sigma_Y = math.sqrt(64)\n",
    "rho = 0.3"
   ]
  },
  {
   "cell_type": "code",
   "execution_count": 45,
   "metadata": {},
   "outputs": [],
   "source": [
    "mu = [mu_X, mu_Y]\n",
    "Cov_XY = rho*sigma_X*sigma_Y\n",
    "C = [[sigma_X**2, Cov_XY], [Cov_XY, sigma_Y**2]]\n",
    "XY = sts.multivariate_normal(mean=mu, cov=C)"
   ]
  },
  {
   "cell_type": "code",
   "execution_count": 48,
   "metadata": {},
   "outputs": [],
   "source": [
    "P = XY.cdf([1, sp.oo]) - XY.cdf([1, 10]) + XY.cdf([sp.oo, 10]) - XY.cdf([1, 10])"
   ]
  },
  {
   "cell_type": "code",
   "execution_count": 49,
   "metadata": {},
   "outputs": [
    {
     "data": {
      "text/plain": [
       "0.8400462436190765"
      ]
     },
     "execution_count": 49,
     "metadata": {},
     "output_type": "execute_result"
    }
   ],
   "source": [
    "P"
   ]
  },
  {
   "cell_type": "markdown",
   "metadata": {},
   "source": [
    "4.  Для нормального случайного вектора $(X,Y)\\sim N(-3;2;100;100;0,35)$ \n",
    "найдите вероятность $\\text{P}((X-3)(X-10)(Y-1)<0)$.<br/>"
   ]
  },
  {
   "cell_type": "code",
   "execution_count": 50,
   "metadata": {},
   "outputs": [],
   "source": [
    "mu_X = -3\n",
    "mu_Y = 2\n",
    "sigma_X = math.sqrt(100)\n",
    "sigma_Y = math.sqrt(100)\n",
    "rho = 0.35"
   ]
  },
  {
   "cell_type": "code",
   "execution_count": 51,
   "metadata": {},
   "outputs": [],
   "source": [
    "Cov_XY = rho*sigma_X*sigma_Y\n",
    "mu = [mu_X, mu_Y]\n",
    "C = [[sigma_X**2, Cov_XY], [Cov_XY, sigma_Y**2]]\n",
    "XY = sts.multivariate_normal(mean=mu, cov=C)"
   ]
  },
  {
   "cell_type": "code",
   "execution_count": 52,
   "metadata": {},
   "outputs": [],
   "source": [
    "P = XY.cdf([3, sp.oo]) + XY.cdf([10, sp.oo]) + XY.cdf([sp.oo, 1]) - 2*XY.cdf([10, 1]) - 2*XY.cdf([3, sp.oo]) + 2*XY.cdf([3, 1])"
   ]
  },
  {
   "cell_type": "code",
   "execution_count": 53,
   "metadata": {},
   "outputs": [
    {
     "data": {
      "text/plain": [
       "0.5213268151132606"
      ]
     },
     "execution_count": 53,
     "metadata": {},
     "output_type": "execute_result"
    }
   ],
   "source": [
    "P"
   ]
  },
  {
   "cell_type": "markdown",
   "metadata": {},
   "source": [
    "5.  Случайный вектор $(X,Y)$\n",
    "имеет плотность распределения\n",
    "$$\n",
    "f_{X,Y}(x,y)=\\frac{18 e^{- \\frac{45 x^{2}}{2} - 27 x y - 2 x - \\frac{45 y^{2}}{2} - 6 y - \\frac{4}{9}}}{\\pi}\n",
    "$$\n",
    "Найдите:\n",
    "1) математическое ожидание $\\text{E}(X)$;\n",
    "2) математическое ожидание $\\text{E}(Y)$;\n",
    "3) дисперсию $\\text{V}\\!\\text{ar}(X)$;\n",
    "4) дисперсию $\\text{V}\\!\\text{ar}(Y)$;\n",
    "5) ковариацию $\\text{Cov}(X,Y)$;\n",
    "6) коэффициент корреляции $\\rho(X,Y)$.<br/>"
   ]
  },
  {
   "cell_type": "markdown",
   "metadata": {},
   "source": [
    "-q/2 = -0.5(45x**2+54xy+4x+45y**2+12y+8/9)"
   ]
  },
  {
   "cell_type": "markdown",
   "metadata": {},
   "source": [
    "C = 1/1296 |45  -27|\n",
    "           |-27  45| "
   ]
  },
  {
   "cell_type": "code",
   "execution_count": 1,
   "metadata": {},
   "outputs": [
    {
     "data": {
      "text/plain": [
       "1296"
      ]
     },
     "execution_count": 1,
     "metadata": {},
     "output_type": "execute_result"
    }
   ],
   "source": [
    "45**2-27**2"
   ]
  },
  {
   "cell_type": "markdown",
   "metadata": {},
   "source": [
    "45/1296 = 5/144\n",
    "-27/1296 = -1/48"
   ]
  },
  {
   "cell_type": "markdown",
   "metadata": {},
   "source": [
    "90x+54y+4=0\n",
    "90y+54x+12=0\n",
    "x = 1/18\n",
    "y = -1/6"
   ]
  }
 ],
 "metadata": {
  "kernelspec": {
   "display_name": "Python 3 (ipykernel)",
   "language": "python",
   "name": "python3"
  },
  "language_info": {
   "codemirror_mode": {
    "name": "ipython",
    "version": 3
   },
   "file_extension": ".py",
   "mimetype": "text/x-python",
   "name": "python",
   "nbconvert_exporter": "python",
   "pygments_lexer": "ipython3",
   "version": "3.12.2"
  }
 },
 "nbformat": 4,
 "nbformat_minor": 4
}
